{
 "cells": [
  {
   "cell_type": "code",
   "execution_count": 2,
   "id": "35707455-045a-4878-af00-2c516e98eb03",
   "metadata": {},
   "outputs": [
    {
     "name": "stdout",
     "output_type": "stream",
     "text": [
      "(10, 9, 8)\n",
      "(15, 14, 13)\n",
      "(10, 9, 8)\n",
      "(10, 9, 9)\n"
     ]
    }
   ],
   "source": [
    "\"\"\"Soal 1\"\"\"\n",
    "def terbaik(tertinggi):\n",
    "    tertinggi.sort(reverse = True)\n",
    "    return(tertinggi[0],tertinggi[1],tertinggi[2])\n",
    "\n",
    "print(terbaik([5,3,4,1,6,2,10,9,8]))\n",
    "print(terbaik([10,11,12,13,14,15]))\n",
    "print(terbaik([10,9,8,7,6,5,4,3,2,1]))\n",
    "print(terbaik([10,9,9,8,3,5,3,6,4]))"
   ]
  },
  {
   "cell_type": "code",
   "execution_count": 4,
   "id": "b53aa6f5-7536-4787-bc2c-83f1f0da5c19",
   "metadata": {},
   "outputs": [
    {
     "name": "stdin",
     "output_type": "stream",
     "text": [
      "Masukkan Bilangan (ketik 'done' jika ingin melihat rata ratanya):  10\n",
      "Masukkan Bilangan (ketik 'done' jika ingin melihat rata ratanya):  20\n",
      "Masukkan Bilangan (ketik 'done' jika ingin melihat rata ratanya):  30\n",
      "Masukkan Bilangan (ketik 'done' jika ingin melihat rata ratanya):  40\n",
      "Masukkan Bilangan (ketik 'done' jika ingin melihat rata ratanya):  done\n"
     ]
    },
    {
     "name": "stdout",
     "output_type": "stream",
     "text": [
      "Jadi rata rata nya adalah : 25.0\n"
     ]
    }
   ],
   "source": [
    "\"\"\"Soal 2\"\"\"\n",
    "def ratarata():      \n",
    "    list_yang_mau_diisi = []\n",
    "    while True:\n",
    "        bilangan = (input(\"Masukkan Bilangan (ketik 'done' jika ingin melihat rata ratanya): \"))\n",
    "        if bilangan == \"done\":\n",
    "            break \n",
    "        try:\n",
    "            list_yang_mau_diisi.append(float(bilangan))\n",
    "        except:\n",
    "            print(\"Masukkan angka / 'done' \")\n",
    "           \n",
    "    rata2= sum(list_yang_mau_diisi) / len(list_yang_mau_diisi)\n",
    "    print(f\"Jadi rata rata nya adalah : {rata2}\")\n",
    "ratarata()"
   ]
  },
  {
   "cell_type": "code",
   "execution_count": null,
   "id": "e94c9cd6-ec8f-42c2-b358-486776d7478f",
   "metadata": {},
   "outputs": [],
   "source": []
  }
 ],
 "metadata": {
  "kernelspec": {
   "display_name": "Python [conda env:base] *",
   "language": "python",
   "name": "conda-base-py"
  },
  "language_info": {
   "codemirror_mode": {
    "name": "ipython",
    "version": 3
   },
   "file_extension": ".py",
   "mimetype": "text/x-python",
   "name": "python",
   "nbconvert_exporter": "python",
   "pygments_lexer": "ipython3",
   "version": "3.12.7"
  }
 },
 "nbformat": 4,
 "nbformat_minor": 5
}
