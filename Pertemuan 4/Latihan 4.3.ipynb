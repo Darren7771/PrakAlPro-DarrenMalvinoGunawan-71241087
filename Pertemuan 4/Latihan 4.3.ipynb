{
 "cells": [
  {
   "cell_type": "code",
   "execution_count": 29,
   "id": "2a595b9a-227c-4038-bd54-6ab57319e5ff",
   "metadata": {},
   "outputs": [
    {
     "name": "stdin",
     "output_type": "stream",
     "text": [
      "Masukkan Bulan (1-12) :  1\n"
     ]
    },
    {
     "name": "stdout",
     "output_type": "stream",
     "text": [
      "Jumlah Hari : 31 \n"
     ]
    }
   ],
   "source": [
    "try:\n",
    "    bulan = int(input(\"Masukkan Bulan (1-12) : \"))\n",
    "\n",
    "    if bulan == 1 or bulan ==  3 or bulan ==  5 or bulan == 7 or bulan == 8 or bulan == 10 or bulan == 12 : \n",
    "        print(\"Jumlah Hari : 31 \")\n",
    "    elif bulan == 4 or bulan == 6 or bulan == 9 or bulan == 11 : \n",
    "        print(\"Jumlah Hari : 30\" ) \n",
    "    elif bulan == 2:\n",
    "        print(\"Jumlah Hari : 29 \")\n",
    "    else:\n",
    "        print(\"Tolong Gunakan Angka (1-12)\")\n",
    "except:\n",
    "    print (\"Tolong Jangan Menggunakan Huruf, Gunakan Angka 1-12.\")\n"
   ]
  },
  {
   "cell_type": "code",
   "execution_count": null,
   "id": "3b06bb74-87a4-49d8-ba65-5b74dc7365aa",
   "metadata": {},
   "outputs": [],
   "source": []
  },
  {
   "cell_type": "code",
   "execution_count": null,
   "id": "0a49822c-a242-419a-a8d5-3c6cccc736e8",
   "metadata": {},
   "outputs": [],
   "source": []
  }
 ],
 "metadata": {
  "kernelspec": {
   "display_name": "Python [conda env:base] *",
   "language": "python",
   "name": "conda-base-py"
  },
  "language_info": {
   "codemirror_mode": {
    "name": "ipython",
    "version": 3
   },
   "file_extension": ".py",
   "mimetype": "text/x-python",
   "name": "python",
   "nbconvert_exporter": "python",
   "pygments_lexer": "ipython3",
   "version": "3.12.7"
  }
 },
 "nbformat": 4,
 "nbformat_minor": 5
}
