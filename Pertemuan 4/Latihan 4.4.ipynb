{
 "cells": [
  {
   "cell_type": "code",
   "execution_count": null,
   "id": "44a1ec4d-4a62-4d84-9660-a8a7798deab8",
   "metadata": {},
   "outputs": [],
   "source": [
    "try:\n",
    "    sisi_1 = int(input(\"Masukkan sisi 1: \"))\n",
    "    sisi_2 = int(input(\"Masukkan sisi 2: \"))\n",
    "    sisi_3 = int(input(\"Masukkan sisi 3: \"))\n",
    "\n",
    "    if sisi_1 == sisi_2 == sisi_3:\n",
    "        print(\"3 sisi sama\")\n",
    "    elif sisi_1 == sisi_2 or sisi_1 == sisi_3 or sisi_2 == sisi_3: \n",
    "        print(\"2 sisi sama\")\n",
    "    else:\n",
    "        print(\"Tidak ada yang sama\")\n",
    "    \n",
    "except:\n",
    "    print(\"Tolong Gunakan Integer(Angka), Jangan Gunakan String(Huruf)\")"
   ]
  }
 ],
 "metadata": {
  "kernelspec": {
   "display_name": "Python [conda env:base] *",
   "language": "python",
   "name": "conda-base-py"
  },
  "language_info": {
   "codemirror_mode": {
    "name": "ipython",
    "version": 3
   },
   "file_extension": ".py",
   "mimetype": "text/x-python",
   "name": "python",
   "nbconvert_exporter": "python",
   "pygments_lexer": "ipython3",
   "version": "3.12.7"
  }
 },
 "nbformat": 4,
 "nbformat_minor": 5
}
