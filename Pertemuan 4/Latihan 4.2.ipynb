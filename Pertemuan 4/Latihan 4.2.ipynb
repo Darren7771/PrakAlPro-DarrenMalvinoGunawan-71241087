{
 "cells": [
  {
   "cell_type": "code",
   "execution_count": 22,
   "id": "853fae63-3256-4c4a-ab3a-665ce3863501",
   "metadata": {},
   "outputs": [
    {
     "name": "stdin",
     "output_type": "stream",
     "text": [
      "Masukkan suatu bilangan:  -3\n"
     ]
    },
    {
     "name": "stdout",
     "output_type": "stream",
     "text": [
      "Negatif\n"
     ]
    }
   ],
   "source": [
    "bilangan = int(input(\"Masukkan suatu bilangan: \")) \n",
    "Kesimpulan = \"Nol\" if bilangan == 0 else \"Positif\" if bilangan > 0 else \"Negatif\"\n",
    "print (Kesimpulan)\n"
   ]
  },
  {
   "cell_type": "code",
   "execution_count": null,
   "id": "d74fd03a-491b-4895-a2f4-b10ac5ee299b",
   "metadata": {},
   "outputs": [],
   "source": []
  },
  {
   "cell_type": "code",
   "execution_count": null,
   "id": "77016c36-bc84-40a5-af2f-4aa3e836e809",
   "metadata": {},
   "outputs": [],
   "source": []
  }
 ],
 "metadata": {
  "kernelspec": {
   "display_name": "Python [conda env:base] *",
   "language": "python",
   "name": "conda-base-py"
  },
  "language_info": {
   "codemirror_mode": {
    "name": "ipython",
    "version": 3
   },
   "file_extension": ".py",
   "mimetype": "text/x-python",
   "name": "python",
   "nbconvert_exporter": "python",
   "pygments_lexer": "ipython3",
   "version": "3.12.7"
  }
 },
 "nbformat": 4,
 "nbformat_minor": 5
}
