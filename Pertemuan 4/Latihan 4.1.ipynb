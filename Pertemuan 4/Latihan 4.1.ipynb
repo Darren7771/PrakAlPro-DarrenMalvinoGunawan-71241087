{
 "cells": [
  {
   "cell_type": "code",
   "execution_count": 2,
   "id": "32274f3f-facc-448e-9bf3-f4b835be8319",
   "metadata": {},
   "outputs": [
    {
     "name": "stdin",
     "output_type": "stream",
     "text": [
      "Masukkan suhu tubuh:  Tiga Puluh Delapan\n"
     ]
    },
    {
     "name": "stdout",
     "output_type": "stream",
     "text": [
      ">> Jangan menggunakan String! (Huruf)\n",
      ">> Mohon Menggunakan Integer (Misal : 17 / 22 /33 dll) \n",
      ">> invalid literal for int() with base 10: 'Tiga Puluh Delapan'\n"
     ]
    }
   ],
   "source": [
    "suhu = input(\"Masukkan suhu tubuh: \")\n",
    "try:\n",
    "    suhu=int(suhu)\n",
    "    if suhu >= 38:\n",
    "        print(\"Anda demam\")\n",
    "    else:\n",
    "        print(\"Anda tidak demam\")\n",
    "except Exception as k:\n",
    "    print(f\">> Jangan menggunakan String! (Huruf)\\n>> Mohon Menggunakan Integer (Misal : 17 / 22 /33 dll) \\n>> {k}\")"
   ]
  },
  {
   "cell_type": "code",
   "execution_count": 4,
   "id": "22a6ba77-c516-4b06-88bb-9eec795fb10b",
   "metadata": {},
   "outputs": [
    {
     "name": "stdin",
     "output_type": "stream",
     "text": [
      "Masukkan suatu bilangan:  Min 5\n"
     ]
    },
    {
     "name": "stdout",
     "output_type": "stream",
     "text": [
      ">> Jangan menggunakan String! (Huruf)\n",
      ">> Mohon Menggunakan Integer (Angka, Misal : 17 / 22 /33 dll) \n",
      ">> invalid literal for int() with base 10: 'Min 5' \n"
     ]
    }
   ],
   "source": [
    "bilangan = input(\"Masukkan suatu bilangan: \")\n",
    "try : \n",
    "    bilangan = int(bilangan)\n",
    "    if bilangan > 0:\n",
    "        print(\"Positif\")\n",
    "    elif bilangan < 0:\n",
    "        print(\"Negatif\")\n",
    "    elif bilangan == 0:\n",
    "        print(\"Nol\")\n",
    "except Exception as k:\n",
    "    print(f\">> Jangan menggunakan String! (Huruf)\\n>> Mohon Menggunakan Integer (Angka, Misal : 17 / 22 /33 dll) \\n>> {k} \")"
   ]
  },
  {
   "cell_type": "code",
   "execution_count": 10,
   "id": "d15138bc-78c3-4a80-87f4-aa918ee7150b",
   "metadata": {},
   "outputs": [
    {
     "name": "stdin",
     "output_type": "stream",
     "text": [
      "Masukkan bilangan pertama:  28\n",
      "Masukkan bilangan kedua:  38\n",
      "Masukkan bilangan ketiga:  Empat Puluh Delapan\n"
     ]
    },
    {
     "name": "stdout",
     "output_type": "stream",
     "text": [
      "Mohon gunakan Integer (Angka, Misal : 12, 3, 55)\n"
     ]
    }
   ],
   "source": [
    "try : \n",
    "    a = int(input(\"Masukkan bilangan pertama: \"))\n",
    "    b = int(input(\"Masukkan bilangan kedua: \"))\n",
    "    c = int(input(\"Masukkan bilangan ketiga: \"))\n",
    "\n",
    "    if a > b and a > c:\n",
    "        print(\"Terbesar: \", a)\n",
    "    elif b > a and b > c:\n",
    "        print(\"Terbesar: \", b)\n",
    "    elif c > a and c > b:\n",
    "        print(\"Terbesar: \", c)\n",
    "\n",
    "except: \n",
    "    print(\"Mohon gunakan Integer (Angka, Misal : 12, 3, 55)\")"
   ]
  },
  {
   "cell_type": "code",
   "execution_count": null,
   "id": "85489d27-e253-415a-92ed-5b06292e8c40",
   "metadata": {},
   "outputs": [],
   "source": []
  }
 ],
 "metadata": {
  "kernelspec": {
   "display_name": "Python [conda env:base] *",
   "language": "python",
   "name": "conda-base-py"
  },
  "language_info": {
   "codemirror_mode": {
    "name": "ipython",
    "version": 3
   },
   "file_extension": ".py",
   "mimetype": "text/x-python",
   "name": "python",
   "nbconvert_exporter": "python",
   "pygments_lexer": "ipython3",
   "version": "3.12.7"
  }
 },
 "nbformat": 4,
 "nbformat_minor": 5
}
