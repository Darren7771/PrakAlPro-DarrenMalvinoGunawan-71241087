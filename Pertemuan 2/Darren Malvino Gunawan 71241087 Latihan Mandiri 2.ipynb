{
 "cells": [
  {
   "cell_type": "code",
   "execution_count": 77,
   "id": "e4393e5f-3b86-4259-9944-88874e0e5e98",
   "metadata": {},
   "outputs": [
    {
     "name": "stdin",
     "output_type": "stream",
     "text": [
      "Body Mass Index Anda :  18.5\n",
      "Masukkan Tinggi Badan(M)(Contoh -> tinggi anda 156cm ubah menjadi 1.56 (menjadi meter) :  1.80\n"
     ]
    },
    {
     "name": "stdout",
     "output_type": "stream",
     "text": [
      "Berat Anda Adalah 59.9 kg\n"
     ]
    }
   ],
   "source": [
    "BMI = float(input(\"Body Mass Index Anda : \") )\n",
    "tinggi = float(input(\"Masukkan Tinggi Badan(M)(Contoh -> tinggi anda 156cm ubah menjadi 1.56 (menjadi meter) : \"))\n",
    "berat = BMI * tinggi**2  \n",
    "print(f\"Berat Anda Adalah {berat:.1f} kg\")"
   ]
  },
  {
   "cell_type": "code",
   "execution_count": 75,
   "id": "92616785-4938-4a23-b00f-b00e3afec273",
   "metadata": {},
   "outputs": [
    {
     "name": "stdin",
     "output_type": "stream",
     "text": [
      "X = 20\n"
     ]
    },
    {
     "name": "stdout",
     "output_type": "stream",
     "text": [
      "f(x) = 16041\n"
     ]
    }
   ],
   "source": [
    "x = int(input(\"X =\"))\n",
    "Total = round(2*x**3+2*x+15/x)\n",
    "print(\"f(x) =\",Total)"
   ]
  },
  {
   "cell_type": "code",
   "execution_count": 13,
   "id": "49c8b7bf-c5fe-4aff-8c52-6b2b5e8915a4",
   "metadata": {},
   "outputs": [
    {
     "name": "stdin",
     "output_type": "stream",
     "text": [
      "Gaji per jam yang anda inginkan = Rp. 80000\n",
      "Jumlah jam kerja yang akan dilakukan dalam 1 minggu =  40\n"
     ]
    },
    {
     "name": "stdout",
     "output_type": "stream",
     "text": [
      "=============================================================================================================\n",
      "Pendapatan Budi selama libur musim panas sebelum melakukan pembayaran pajak adalah Rp. 16000000\n",
      "Pendapatan Budi selama libur musim panas setelah melakukan pembayaran pajak adalah Rp. 13760000\n",
      "Jumlah uang yang akan Budi habiskan untuk membeli pakaian dan aksesoris adalah Rp. 1376000\n",
      "Jumlah uang yang akan Budi habiskan untuk membeli alat tulis adalah Rp. 123840\n",
      "Jumlah uang yang akan Budi sedekahkan adalah Rp. 3065040\n",
      "Jumlah uang yang akan diterima anak yatim adalah Rp. 919512\n",
      "Jumlah uang yang akan diterima kaum dhuafa adalah Rp. 2145528\n",
      "=============================================================================================================\n"
     ]
    }
   ],
   "source": [
    "gajiperJam = int(input(\"Gaji per jam yang anda inginkan = Rp.\"))\n",
    "jamKerja = int(input(\"Jumlah jam kerja yang akan dilakukan dalam 1 minggu = \"))\n",
    "\n",
    "gajiAsli = gajiperJam * jamKerja * 5 \n",
    "gaji_sesudah_bayar_pajak = (gajiAsli - ((14/100) * gajiAsli))\n",
    "\n",
    "pakaianAksesoris = (gaji_sesudah_bayar_pajak * (10/100))\n",
    "sisapakaianAksesoris = (gaji_sesudah_bayar_pajak - pakaianAksesoris)\n",
    "\n",
    "alat_tulis = (sisapakaianAksesoris * (1/100))\n",
    "sisa_alat_tulis = sisapakaianAksesoris - alat_tulis\n",
    "\n",
    "sedekah =  sisa_alat_tulis * (25/100)\n",
    "sedekahYatim = sedekah * (30/100)\n",
    "sedekahDhuafa = sedekah - sedekahYatim\n",
    "\n",
    "print(\"=============================================================================================================\")\n",
    "print(\"Pendapatan Budi selama libur musim panas sebelum melakukan pembayaran pajak adalah Rp.\",round(gajiAsli))\n",
    "print(\"Pendapatan Budi selama libur musim panas setelah melakukan pembayaran pajak adalah Rp.\",round(gaji_sesudah_bayar_pajak))\n",
    "print(\"Jumlah uang yang akan Budi habiskan untuk membeli pakaian dan aksesoris adalah Rp.\",round(pakaianAksesoris))\n",
    "print(\"Jumlah uang yang akan Budi habiskan untuk membeli alat tulis adalah Rp.\",round(alat_tulis))\n",
    "print(\"Jumlah uang yang akan Budi sedekahkan adalah Rp.\",round(sedekah))\n",
    "print(\"Jumlah uang yang akan diterima anak yatim adalah Rp.\",round(sedekahYatim))\n",
    "print(\"Jumlah uang yang akan diterima kaum dhuafa adalah Rp.\", round(sedekahDhuafa))\n",
    "print(\"=============================================================================================================\")"
   ]
  },
  {
   "cell_type": "code",
   "execution_count": null,
   "id": "180f828e-0b08-4597-8a17-07cef9e284ba",
   "metadata": {},
   "outputs": [],
   "source": []
  },
  {
   "cell_type": "code",
   "execution_count": null,
   "id": "db17d5f4-078b-4fb7-b267-7799db153daf",
   "metadata": {},
   "outputs": [],
   "source": []
  }
 ],
 "metadata": {
  "kernelspec": {
   "display_name": "Python [conda env:base] *",
   "language": "python",
   "name": "conda-base-py"
  },
  "language_info": {
   "codemirror_mode": {
    "name": "ipython",
    "version": 3
   },
   "file_extension": ".py",
   "mimetype": "text/x-python",
   "name": "python",
   "nbconvert_exporter": "python",
   "pygments_lexer": "ipython3",
   "version": "3.12.7"
  }
 },
 "nbformat": 4,
 "nbformat_minor": 5
}
