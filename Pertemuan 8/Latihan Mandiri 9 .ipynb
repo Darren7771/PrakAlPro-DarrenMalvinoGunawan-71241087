{
 "cells": [
  {
   "cell_type": "code",
   "execution_count": 6,
   "id": "627f4307-0a1e-4b75-a0b2-f94eeffbcf6e",
   "metadata": {},
   "outputs": [
    {
     "name": "stdin",
     "output_type": "stream",
     "text": [
      "Masukkan kata pertama\n",
      ">  mata\n",
      "Masukkan kata kedua\n",
      ">  tama\n"
     ]
    },
    {
     "name": "stdout",
     "output_type": "stream",
     "text": [
      "kata 1 dan 2 adalah anagram!\n"
     ]
    }
   ],
   "source": [
    "def cek_anagram():\n",
    "    \n",
    "    kataPertama  = input(\"Masukkan kata pertama\\n> \")\n",
    "    kataKedua = input(\"Masukkan kata kedua\\n> \")\n",
    "\n",
    "    kataPertama = kataPertama.replace(\" \", \"\").lower()\n",
    "    kataKedua = kataKedua.replace(\" \", \"\").lower()\n",
    "\n",
    "    simpanKata1 = sorted(kataPertama)\n",
    "    simpanKata2 = sorted(kataKedua)\n",
    "    \n",
    "    if simpanKata1 == simpanKata2:\n",
    "        print (\"kata 1 dan 2 adalah anagram!\")\n",
    "    else: \n",
    "        print (\"kata 1 dan 2 bukan anagram!\")\n",
    "cek_anagram()\n"
   ]
  },
  {
   "cell_type": "code",
   "execution_count": 8,
   "id": "9c0cff7a-1105-4925-a638-21fad276b981",
   "metadata": {},
   "outputs": [
    {
     "name": "stdout",
     "output_type": "stream",
     "text": [
      "makan ada 3 buah.\n"
     ]
    }
   ],
   "source": [
    "def menghitung_frekuensi_kata(kalimat, kata):\n",
    "    hurufSpesial = '.,!?;:()[]{}\\'\"'\n",
    "    kalimat = kalimat.lower()\n",
    "    kata = kata.lower()\n",
    "    \n",
    "    for tanda in hurufSpesial:\n",
    "        kalimat = kalimat.replace(tanda, '')\n",
    "    \n",
    "    pemisahKata = kalimat.split()\n",
    "    \n",
    "    return pemisahKata.count(kata)\n",
    "kalimat = \"Saya mau makan. Makan itu wajib. Mau siang atau malam saya wajib makan\"\n",
    "kata = 'makan'\n",
    "\n",
    "hasil = menghitung_frekuensi_kata(kalimat,kata)\n",
    "print(f\"{kata} ada {hasil} buah.\")"
   ]
  },
  {
   "cell_type": "code",
   "execution_count": 15,
   "id": "87f0c581-0500-4837-a4eb-e26a87d6475e",
   "metadata": {},
   "outputs": [
    {
     "name": "stdout",
     "output_type": "stream",
     "text": [
      "Saya tidak suka memancing ikan\n"
     ]
    }
   ],
   "source": [
    "kalimat = \"Saya           tidak suka  memancing  ikan \"\n",
    "def spasiBerlebih(kalimat):\n",
    "    penghilang_spasi_berlebih =' '.join(kalimat.strip().split())\n",
    "    print (penghilang_spasi_berlebih)\n",
    "\n",
    "spasiBerlebih(kalimat)"
   ]
  },
  {
   "cell_type": "code",
   "execution_count": 21,
   "id": "99eba00e-5185-4c68-b48e-8f076d62c0cf",
   "metadata": {},
   "outputs": [
    {
     "name": "stdin",
     "output_type": "stream",
     "text": [
      "Masukkan kalimat:  red snakes and a black frog in the pool\n"
     ]
    },
    {
     "name": "stdout",
     "output_type": "stream",
     "text": [
      "terpendek: a, terpanjang: snakes\n"
     ]
    }
   ],
   "source": [
    "def panjang_pendek(kalimat):\n",
    "    kata = kalimat.strip().split()\n",
    "    kataPendek = kata[0]\n",
    "    kataPanjang = kata[0]\n",
    "    for i in kata:\n",
    "        if len(i) < len(kataPendek):\n",
    "            kataPendek = i\n",
    "        elif len(i) > len(kataPanjang):\n",
    "            kataPanjang = i\n",
    "\n",
    "    print(f\"terpendek: {kataPendek}, terpanjang: {kataPanjang}\")\n",
    "\n",
    "kalimat = input(\"Masukkan kalimat: \")\n",
    "panjang_pendek(kalimat)"
   ]
  },
  {
   "cell_type": "code",
   "execution_count": 23,
   "id": "436e74d5-08a5-4037-a3d1-39072b94a5f7",
   "metadata": {},
   "outputs": [
    {
     "name": "stdout",
     "output_type": "stream",
     "text": [
      "anton@mail.com username: anton, password: YKqD7rUu\n",
      "budi@gmail.co.id username: budi, password: dQbnvvsL\n",
      "slamet@getnada.com username: slamet, password: J5kH2rBc\n",
      "matahari@tokopedia.com username: matahari, password: zZBB4GDJ\n"
     ]
    }
   ],
   "source": [
    "import random\n",
    "def email_password():\n",
    "    email = (\n",
    "        \"anton@mail.com dimiliki oleh antonius \"\n",
    "        \"budi@gmail.co.id dimiliki oleh budi anwari \"\n",
    "        \"slamet@getnada.com dimiliki oleh slamet slumut \"\n",
    "        \"matahari@tokopedia.com dimiliki oleh toko matahari \"\n",
    "    )\n",
    "\n",
    "    karakter_password = \"ABCDEFGHIJKLMNOPQRSTUVWXYZabcdefghijklmnopqrstuvwxyz0123456789\"\n",
    "    kataPisah = email.split()\n",
    "\n",
    "    for item in kataPisah:\n",
    "        if \"@\" in item and \".\" in item:\n",
    "            alamat_email = item\n",
    "            nama_user = alamat_email.split(\"@\")[0]\n",
    "            sandi = \"\".join(random.choice(karakter_password) for item in range(8))\n",
    "            print(f\"{alamat_email} username: {nama_user}, password: {sandi}\")\n",
    "\n",
    "email_password()"
   ]
  },
  {
   "cell_type": "code",
   "execution_count": 27,
   "id": "1140f22d-a629-4203-9ef5-75bc7bc3cea1",
   "metadata": {},
   "outputs": [
    {
     "name": "stdin",
     "output_type": "stream",
     "text": [
      "Masukkan tahun sekarang:  2025\n",
      "Masukkan bulan sekarang:  04\n",
      "Masukkan hari sekarang:  27\n"
     ]
    },
    {
     "name": "stdout",
     "output_type": "stream",
     "text": [
      "1945-08-17 00:00:00 selisih 29088 hari\n",
      "1785-11-11 00:00:00 selisih 87402 hari\n",
      "1783-06-08 00:00:00 selisih 88288 hari\n",
      "1889-05-02 00:00:00 selisih 49635 hari\n"
     ]
    }
   ],
   "source": [
    "import re\n",
    "\n",
    "def proses_tanggal(kalimat, tahun_sekarang, bulan_sekarang, hari_sekarang):\n",
    "\n",
    "    listBulan = [0, 31, 59, 90, 120, 151, 181, 212, 243, 273, 304, 334]\n",
    "    total_hari_saat_ini = tahun_sekarang * 365 + listBulan[bulan_sekarang - 1] + hari_sekarang\n",
    "    re_tanggal = r\"\\d{4}-\\d{2}-\\d{2}\"\n",
    "    tanggal_list = re.findall(re_tanggal, kalimat)\n",
    "\n",
    "    for tanggal in tanggal_list:\n",
    "        memisah = tanggal.split('-')\n",
    "        tahun = int(memisah[0])\n",
    "        bulan = int(memisah[1])\n",
    "        hari = int(memisah[2])\n",
    "\n",
    "        hari_total_input = tahun * 365 + listBulan[bulan - 1] + hari\n",
    "        selisih = total_hari_saat_ini - hari_total_input\n",
    "        print(f\"{tanggal} 00:00:00 selisih {selisih} hari\")\n",
    "\n",
    "\n",
    "kalimat = \"\"\"Pada tanggal 1945-08-17 Indonesia merdeka. Indonesia memiliki beberapa pahlawan nasional,\n",
    "seperti Pangeran Diponegoro (TL: 1785-11-11), Pattimura (TL: 1783-06-08) dan Ki Hajar Dewantara (1889-05-02).\"\"\"\n",
    "tahun_sekarang = int(input(\"Masukkan tahun sekarang: \"))\n",
    "bulan_sekarang = int(input(\"Masukkan bulan sekarang: \"))\n",
    "hari_sekarang = int(input(\"Masukkan hari sekarang: \"))\n",
    "proses_tanggal(kalimat, tahun_sekarang, bulan_sekarang, hari_sekarang)\n"
   ]
  },
  {
   "cell_type": "code",
   "execution_count": null,
   "id": "c2a1a2ff-4063-4672-81f4-48eb6dd9dd23",
   "metadata": {},
   "outputs": [],
   "source": []
  }
 ],
 "metadata": {
  "kernelspec": {
   "display_name": "Python [conda env:base] *",
   "language": "python",
   "name": "conda-base-py"
  },
  "language_info": {
   "codemirror_mode": {
    "name": "ipython",
    "version": 3
   },
   "file_extension": ".py",
   "mimetype": "text/x-python",
   "name": "python",
   "nbconvert_exporter": "python",
   "pygments_lexer": "ipython3",
   "version": "3.12.7"
  }
 },
 "nbformat": 4,
 "nbformat_minor": 5
}
