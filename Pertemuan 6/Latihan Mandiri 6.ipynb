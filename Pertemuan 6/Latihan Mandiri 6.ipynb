{
 "cells": [
  {
   "cell_type": "code",
   "execution_count": 1,
   "id": "bbfc030d-1daf-4f74-80b8-b9bff8b2e2cd",
   "metadata": {},
   "outputs": [
    {
     "name": "stdout",
     "output_type": "stream",
     "text": [
      "6 * 0 = 0 + 0 + 0 + 0 + 0 + 0 = 0.\n"
     ]
    }
   ],
   "source": [
    "def perkalian(angkaAwal, angkaKedua):\n",
    "    hasil = angkaAwal*angkaKedua\n",
    "    i = 0\n",
    "    print(f\"{angkaAwal} * {angkaKedua} \",end=\"= \")\n",
    "\n",
    "    for i in range (angkaAwal):\n",
    "        print(angkaKedua, end=\"\")\n",
    "\n",
    "        if i < angkaAwal - 1:\n",
    "            print(\" + \", end=\"\")\n",
    "        i += 1\n",
    "\n",
    "    print(f\" = {hasil}.\")\n",
    "\n",
    "perkalian(6,0)"
   ]
  },
  {
   "cell_type": "code",
   "execution_count": 5,
   "id": "36a5b535-d261-477f-89a7-dcb2dbbbd8d4",
   "metadata": {},
   "outputs": [
    {
     "name": "stdout",
     "output_type": "stream",
     "text": [
      "maka hasilnya adalah: 1,3,5,7,9.\n",
      "maka hasilnya adalah: 9,7,5,3,1.\n"
     ]
    }
   ],
   "source": [
    "def ganjil(batasBawah,batasAtas):\n",
    "    print(\"maka hasilnya adalah: \",end=\"\")\n",
    "    if batasBawah < batasAtas:\n",
    "        for k in range(batasBawah, batasAtas + 1):\n",
    "            if k %2 != 0:\n",
    "                print (k,end=\"\" )\n",
    "                if k < batasAtas - 1:\n",
    "                    print(end=\",\")\n",
    "    else: \n",
    "        for k in range(batasBawah,batasAtas-1 , -1):\n",
    "            if k % 2 !=0: \n",
    "                print(k,end=\"\")\n",
    "                if k > batasAtas + 1:\n",
    "                    print(end=\",\")\n",
    "    print(\".\") \n",
    "  \n",
    "ganjil(1,10)\n",
    "ganjil(10,1)"
   ]
  },
  {
   "cell_type": "code",
   "execution_count": 8,
   "id": "ad115412-71e4-421b-b5b9-3c8c9de49638",
   "metadata": {},
   "outputs": [
    {
     "name": "stdout",
     "output_type": "stream",
     "text": [
      "Program penghitung IPS Mahasiswa\n"
     ]
    },
    {
     "name": "stdin",
     "output_type": "stream",
     "text": [
      "Masukkan jumlah mata kuliah:  2\n",
      "Nilai MK 1 (A/B/C/D):  A\n",
      "Nilai MK 2 (A/B/C/D):  b\n"
     ]
    },
    {
     "name": "stdout",
     "output_type": "stream",
     "text": [
      "Gunakan huruf sesuai petunjuk! (Jika yang anda masukkan tidak sesuai maka tidak akan terhitung.)\n",
      "Nilai IPS anda semester ini 4.00\n",
      "Program penghitung IPS Mahasiswa\n"
     ]
    },
    {
     "name": "stdin",
     "output_type": "stream",
     "text": [
      "Masukkan jumlah mata kuliah:  0\n"
     ]
    },
    {
     "name": "stdout",
     "output_type": "stream",
     "text": [
      "Masukkan jumlah matakuliah!\n"
     ]
    }
   ],
   "source": [
    "def menghitungIPS():\n",
    "    print(\"Program penghitung IPS Mahasiswa\")\n",
    "    jumlahMatkul= int(input(\"Masukkan jumlah mata kuliah: \"))\n",
    "    \n",
    "    totalNilai = 0\n",
    "    totalSks = 0\n",
    "    sks = 3\n",
    "    \n",
    "    for i in range(jumlahMatkul):\n",
    "        i = i + 1\n",
    "        nilai = input(f\"Nilai MK {i} (A/B/C/D): \")\n",
    "        if nilai == 'A':\n",
    "            bobot = 4\n",
    "        elif nilai == 'B':\n",
    "            bobot = 3\n",
    "        elif nilai == 'C':\n",
    "            bobot = 2\n",
    "        elif nilai == 'D':\n",
    "            bobot = 1\n",
    "        else:\n",
    "            print(\"Gunakan huruf sesuai petunjuk! (Jika yang anda masukkan tidak sesuai maka tidak akan terhitung.)\")\n",
    "            continue  \n",
    "    \n",
    "        totalNilai += bobot * sks\n",
    "        totalSks += sks\n",
    "\n",
    "    if totalSks > 0:\n",
    "        ips = totalNilai / totalSks\n",
    "        print(f\"Nilai IPS anda semester ini {ips:.2f}\")\n",
    "    else:\n",
    "        print(\"Masukkan jumlah matakuliah!\")\n",
    "\n",
    "menghitungIPS()\n",
    "menghitungIPS()"
   ]
  },
  {
   "cell_type": "code",
   "execution_count": null,
   "id": "15e7ef67-d38d-459c-ac51-ae5e35c9710e",
   "metadata": {},
   "outputs": [],
   "source": []
  }
 ],
 "metadata": {
  "kernelspec": {
   "display_name": "Python [conda env:base] *",
   "language": "python",
   "name": "conda-base-py"
  },
  "language_info": {
   "codemirror_mode": {
    "name": "ipython",
    "version": 3
   },
   "file_extension": ".py",
   "mimetype": "text/x-python",
   "name": "python",
   "nbconvert_exporter": "python",
   "pygments_lexer": "ipython3",
   "version": "3.12.7"
  }
 },
 "nbformat": 4,
 "nbformat_minor": 5
}
