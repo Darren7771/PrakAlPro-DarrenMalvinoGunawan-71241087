{
 "cells": [
  {
   "cell_type": "code",
   "execution_count": 24,
   "id": "425dfe11-3584-488b-95b4-02d3c6d5f5f5",
   "metadata": {},
   "outputs": [
    {
     "name": "stdout",
     "output_type": "stream",
     "text": [
      "Dimensi tidak valid\n",
      "1 2 3 4 \n",
      "5 6 7 8 \n",
      "9 10 11 12 \n",
      "13 14 15 16 \n",
      "17 18 19 20 \n",
      "Dimensi tidak valid\n",
      "Dimensi tidak valid\n",
      "1 \n"
     ]
    }
   ],
   "source": [
    "def deretAngka(tinggi, lebar):\n",
    "    if tinggi <= 0 or lebar <= 0:\n",
    "        print(\"Dimensi tidak valid\")\n",
    "        return\n",
    "    angka = 1 \n",
    "    for i in range(tinggi):  \n",
    "        for j in range(lebar):  \n",
    "            print(angka, end=\" \") \n",
    "            angka += 1  \n",
    "        print()  \n",
    "deretAngka(0,4)\n",
    "deretAngka(5,4)\n",
    "deretAngka(0,0)\n",
    "deretAngka(5,0)\n",
    "deretAngka(1,1)"
   ]
  },
  {
   "cell_type": "code",
   "execution_count": 72,
   "id": "076a7767-c416-438b-8cb2-2932def6426c",
   "metadata": {},
   "outputs": [
    {
     "name": "stdout",
     "output_type": "stream",
     "text": [
      "1\n",
      "Faktorial tidak bisa mines\n",
      "720 6 5 4 3 2 1 \n",
      "120 5 4 3 2 1 \n",
      "24 4 3 2 1 \n",
      "6 3 2 1 \n",
      "2 2 1 \n",
      "1 1 \n"
     ]
    }
   ],
   "source": [
    "import math\n",
    "def faktorial(angka):\n",
    "    if angka == 0:\n",
    "        print(1)\n",
    "    elif angka < 0:\n",
    "        print(\"Faktorial tidak bisa mines\")\n",
    "    if angka > 0:\n",
    "        for i in range(angka, 0, -1):\n",
    "            faktorial_i = math.factorial(i)\n",
    "            print(faktorial_i,end=\" \")\n",
    "            for j in range(i, 0, -1):\n",
    "                print(j, end=\" \")\n",
    "            print()\n",
    "faktorial(0)\n",
    "faktorial(-1)\n",
    "faktorial(6)"
   ]
  },
  {
   "cell_type": "code",
   "execution_count": 6,
   "id": "429c4227-83c3-4331-a0c6-3deb44163ecf",
   "metadata": {},
   "outputs": [
    {
     "name": "stdout",
     "output_type": "stream",
     "text": [
      "PROGRAM MENCARI ANGKA PRIMA TERDEKAT (DIBAWAH)\n"
     ]
    },
    {
     "name": "stdin",
     "output_type": "stream",
     "text": [
      "Masukkan bilangan prima:  88\n"
     ]
    },
    {
     "name": "stdout",
     "output_type": "stream",
     "text": [
      "Bilangan prima terdekat sebelum 88 adalah 83\n"
     ]
    }
   ],
   "source": [
    "print(\"PROGRAM MENCARI ANGKA PRIMA TERDEKAT (DIBAWAH)\")\n",
    "def primaTerdekat(n):\n",
    "    for angka in range(n - 1, 1, -1):\n",
    "        pembagi = 2\n",
    "        prima = True\n",
    "        while pembagi < angka:\n",
    "            if angka % pembagi == 0:\n",
    "                prima = False\n",
    "                break\n",
    "            pembagi += 1\n",
    "        \n",
    "        if prima:\n",
    "            print(f\"Bilangan prima terdekat sebelum {n} adalah {angka}\")\n",
    "            break\n",
    "\n",
    "n = int(input(\"Masukkan bilangan prima: \"))\n",
    "primaTerdekat(n) "
   ]
  },
  {
   "cell_type": "code",
   "execution_count": null,
   "id": "89caed23-886f-4a77-8e94-2b40ffe4c934",
   "metadata": {},
   "outputs": [],
   "source": []
  }
 ],
 "metadata": {
  "kernelspec": {
   "display_name": "Python [conda env:base] *",
   "language": "python",
   "name": "conda-base-py"
  },
  "language_info": {
   "codemirror_mode": {
    "name": "ipython",
    "version": 3
   },
   "file_extension": ".py",
   "mimetype": "text/x-python",
   "name": "python",
   "nbconvert_exporter": "python",
   "pygments_lexer": "ipython3",
   "version": "3.12.7"
  }
 },
 "nbformat": 4,
 "nbformat_minor": 5
}
