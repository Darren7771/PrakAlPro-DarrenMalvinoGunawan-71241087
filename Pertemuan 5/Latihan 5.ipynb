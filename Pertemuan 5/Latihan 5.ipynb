{
 "cells": [
  {
   "cell_type": "code",
   "execution_count": 1,
   "id": "d0979d6c-10cb-47f0-8dd7-93d72ef61fc1",
   "metadata": {},
   "outputs": [
    {
     "name": "stdout",
     "output_type": "stream",
     "text": [
      "True\n"
     ]
    }
   ],
   "source": [
    "A = int(input(\"Masukkan Angka Pertama: \"))\n",
    "B = int(input(\"Masukkan Angka Kedua: \"))\n",
    "C = int(input(\"Masukkan Angka Ketiga: \"))\n",
    "\n",
    "def cek_angka(A,B,C):    \n",
    "    if A == B + C:\n",
    "        return True\n",
    "    elif B == A + C:\n",
    "        return True\n",
    "    elif C == A + B:\n",
    "        return True\n",
    "    elif C == A and C == B and B == A:\n",
    "        return False\n",
    "    else: \n",
    "        return False\n",
    "    \n",
    "Kesimpulan = cek_angka(A,B,C)\n",
    "print(Kesimpulan)"
   ]
  },
  {
   "cell_type": "code",
   "execution_count": 14,
   "id": "2f73fd30-f901-4e3b-a2e6-438d490c6214",
   "metadata": {},
   "outputs": [
    {
     "name": "stdin",
     "output_type": "stream",
     "text": [
      "Masukkan Angka Pertama :  53\n",
      "Masukkan Angka Kedua :  8900\n",
      "Masukkan Angka ketiga :  658\n"
     ]
    },
    {
     "name": "stdout",
     "output_type": "stream",
     "text": [
      "False\n"
     ]
    }
   ],
   "source": [
    "Angka1 = int(input(\"Masukkan Angka Pertama : \"))\n",
    "Angka2 = int(input(\"Masukkan Angka Kedua : \"))\n",
    "Angka3 = int(input(\"Masukkan Angka ketiga : \"))\n",
    "\n",
    "def cek_digit_belakang(Hasil1,Hasil2,Hasil3):\n",
    "\n",
    "    Hasil1 = Angka1 % 10\n",
    "    Hasil2 = Angka2 % 10\n",
    "    Hasil3 = Angka3 % 10\n",
    "\n",
    "    if Hasil1 == Hasil2 :\n",
    "        return True \n",
    "    elif Hasil1 == Hasil3:\n",
    "        return True\n",
    "    elif Hasil3 == Hasil2 :\n",
    "        return True\n",
    "    else: \n",
    "        return False\n",
    "    \n",
    "Kesimpulan = cek_digit_belakang(Angka1,Angka2,Angka3)\n",
    "print(Kesimpulan)"
   ]
  },
  {
   "cell_type": "code",
   "execution_count": 12,
   "id": "982e29f8-307d-44ff-b3d0-901bd2679953",
   "metadata": {},
   "outputs": [
    {
     "name": "stdin",
     "output_type": "stream",
     "text": [
      "Masukkan Suhu dalam bentuk Celcius :  0\n",
      "Pilih Fahrenheit / Reamur :  Fahrenheit\n"
     ]
    },
    {
     "name": "stdout",
     "output_type": "stream",
     "text": [
      "32.0\n"
     ]
    }
   ],
   "source": [
    "Celcius = int(input(\"Masukkan Suhu dalam bentuk Celcius : \"))\n",
    "pilih_suhu = str(input(\"Pilih Fahrenheit / Reamur : \"))\n",
    "Total_Fahrenheit = 0\n",
    "Total_Reamur = 0\n",
    "\n",
    "def konversiSuhu(Celcius,pilih_suhu,Total_Fahrenheit, Total_Reamur):\n",
    "    Total_Fahrenheit = (9/5) * Celcius + 32\n",
    "    Total_Reamur = 0.8 * Celcius\n",
    "\n",
    "    if pilih_suhu == \"Fahrenheit\":\n",
    "        return Total_Fahrenheit\n",
    "    elif pilih_suhu == \"Reamur\":\n",
    "        return Total_Reamur  \n",
    "    else:\n",
    "        return \"Anda Salah Memilih. Tolong pilih Fahrenheit atau Reamur (Perhatikan Huruf Besarnya)\"   \n",
    "\n",
    "Kesimpulan = konversiSuhu(Celcius,pilih_suhu,Total_Fahrenheit, Total_Reamur)\n",
    "print (Kesimpulan)"
   ]
  },
  {
   "cell_type": "code",
   "execution_count": null,
   "id": "1d8a858a-40fa-4b6a-bef9-d025d8ca4f2d",
   "metadata": {},
   "outputs": [],
   "source": []
  }
 ],
 "metadata": {
  "kernelspec": {
   "display_name": "Python [conda env:base] *",
   "language": "python",
   "name": "conda-base-py"
  },
  "language_info": {
   "codemirror_mode": {
    "name": "ipython",
    "version": 3
   },
   "file_extension": ".py",
   "mimetype": "text/x-python",
   "name": "python",
   "nbconvert_exporter": "python",
   "pygments_lexer": "ipython3",
   "version": "3.12.7"
  }
 },
 "nbformat": 4,
 "nbformat_minor": 5
}
